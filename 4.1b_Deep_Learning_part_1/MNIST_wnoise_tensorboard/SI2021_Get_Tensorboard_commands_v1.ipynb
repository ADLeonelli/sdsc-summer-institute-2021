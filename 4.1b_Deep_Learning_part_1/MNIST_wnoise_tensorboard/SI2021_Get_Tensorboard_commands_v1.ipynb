{
 "cells": [
  {
   "cell_type": "markdown",
   "metadata": {},
   "source": [
    "## A short script to launch tensorboard ##\n",
    "## PFR 07/2021"
   ]
  },
  {
   "cell_type": "code",
   "execution_count": null,
   "metadata": {},
   "outputs": [],
   "source": [
    "#  Get ip address and token\n",
    "#1.\n",
    "import numpy as np\n",
    "import os\n",
    "ip2use        =!getent hosts $(hostname -s).cm.cluster | awk '{print $1}'\n",
    "token2use_res =!curl https://manage.expanse-user-content.sdsc.edu/getlink.cgi\n",
    "token2use     =token2use_res[-1]\n",
    "port2use      =str(int(np.random.uniform(4000,6000,1)))\n",
    "\n",
    "#2 Output command for user to enter into terminal window\n",
    "print(' --------- run in a notebook terminal...hit enter look for !Success ----------------')\n",
    "print('tensorboard --logdir logs --host '+ip2use[0]+' --port '+port2use+ \" &\")\n",
    "#3 redeem token with port \n",
    "cmd2do=\"curl 'https://manage.expanse-user-content.sdsc.edu/redeemtoken.cgi?token=\"+token2use+\"&port=\"+port2use+\"'\"\n",
    "print(cmd2do)\n",
    "#4 goto\n",
    "print(' --------- load this URL into your browswer (click on it) ----------')\n",
    "print(\"https://\"+token2use+\".expanse-user-content.sdsc.edu\")\n",
    "\n"
   ]
  },
  {
   "cell_type": "code",
   "execution_count": null,
   "metadata": {},
   "outputs": [],
   "source": []
  }
 ],
 "metadata": {
  "kernelspec": {
   "display_name": "Python 3",
   "language": "python",
   "name": "python3"
  },
  "language_info": {
   "codemirror_mode": {
    "name": "ipython",
    "version": 3
   },
   "file_extension": ".py",
   "mimetype": "text/x-python",
   "name": "python",
   "nbconvert_exporter": "python",
   "pygments_lexer": "ipython3",
   "version": "3.6.9"
  }
 },
 "nbformat": 4,
 "nbformat_minor": 4
}
