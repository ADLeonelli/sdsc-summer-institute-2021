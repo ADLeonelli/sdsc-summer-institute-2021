{
 "cells": [
  {
   "cell_type": "markdown",
   "metadata": {},
   "source": [
    "## CIML MNIST with regularization and tensorboard exercise\n",
    "\n",
    "**Goal: explore regularization methods with a noisy MNIST and use tensorboard**\n",
    "\n",
    "Adding noise makes MNIST harder so we can see effects of \n",
    "L1 regularization, DropOut, or, Batch Normalization\n",
    "\n",
    "**Tasks:** \n",
    "<br>\n",
    "1  Run the code as is, with no regularization\n",
    "<br>\n",
    "2  Run the code with L1 regularization  (note the default value is 0.01)\n",
    "<br>   Add this option to the first dense layer\n",
    "<br> $\\;\\;\\;\\;\\;$        \"kernel_regularizer=keras.regularizers.l1(0.01)\"\n",
    "<br>\n",
    "3  Run tensorboard and see the effects of L1 on histograms of the weights\n",
    "<br>  see the Get Tensorboard command notebook\n",
    "<br>\n",
    "$\\;\\;\\;\\;\\;$ Find the histogram tab (only weights are logged)\n",
    "<br>\n",
    "$\\;\\;\\;\\;\\;$ Toggle the log data you want to see (left side)\n",
    "\n",
    "**Advanced**\n",
    "<br>\n",
    "Add a dropout layer (after first dense layer), see how it affects overfitting \n",
    "    ... add(Dropout(0.50))                 #zeros out 50% of activations\n",
    "<br>\n",
    "Add a batch_normalization layer\n",
    "    ... add(BatchNormalization(axis=-1))    #normalize activations of last dimension"
   ]
  },
  {
   "cell_type": "markdown",
   "metadata": {},
   "source": [
    "## Next cell sets up directory for tensorboard logs ## "
   ]
  },
  {
   "cell_type": "code",
   "execution_count": 1,
   "metadata": {},
   "outputs": [
    {
     "name": "stdout",
     "output_type": "stream",
     "text": [
      "using logs/20210623-002450_test  for logs\n"
     ]
    }
   ],
   "source": [
    "#Set up the location for tensorflow logs\n",
    "import datetime, os\n",
    "logdir  = os.path.join(\"logs\", \n",
    "                datetime.datetime.now().strftime(\"%Y%m%d-%H%M%S\")+'_'+ \\\n",
    "                       'test')   #<<<<<----- you can add a comment to describe the test\n",
    "print('using',logdir,' for logs')"
   ]
  },
  {
   "cell_type": "code",
   "execution_count": 2,
   "metadata": {},
   "outputs": [
    {
     "name": "stdout",
     "output_type": "stream",
     "text": [
      "import done\n"
     ]
    }
   ],
   "source": [
    "# ----------- IMPORT STATEMENTS ---------------\n",
    "import numpy as np\n",
    "np.random.seed(1)  # for reproducibility\n",
    " \n",
    "from tensorflow import keras\n",
    "\n",
    "from tensorflow.keras.models import Sequential               #Sequential models are the standard stack of layers models\n",
    "from tensorflow.keras.layers import Dense, BatchNormalization, Dropout, Activation, Flatten   #These are core layer specification functions\n",
    "from tensorflow.keras.layers import Convolution2D, MaxPooling2D      #These are convolution layer functions\n",
    "from tensorflow.keras import optimizers                             #For training algorithm\n",
    "\n",
    "# Load the TensorBoard notebook extension\n",
    "#%load_ext tensorboard\n",
    "\n",
    "import tensorflow as tf\n",
    "#---------------------------------------------\n",
    "print('import done')"
   ]
  },
  {
   "cell_type": "code",
   "execution_count": 3,
   "metadata": {},
   "outputs": [
    {
     "name": "stdout",
     "output_type": "stream",
     "text": [
      "data loaded:(60000, 28, 28)\n"
     ]
    }
   ],
   "source": [
    "#Load MNIST data from Keras datasets\n",
    "(X_train, Y_train), (X_test, Y_test) = tf.keras.datasets.mnist.load_data()\n",
    "\n",
    "print('data loaded:'+str(X_train.shape))"
   ]
  },
  {
   "cell_type": "markdown",
   "metadata": {},
   "source": [
    "## Next cell switches some labels as noise, and only uses first 200 samples for training, to make the task harder to learn ##"
   ]
  },
  {
   "cell_type": "code",
   "execution_count": 4,
   "metadata": {},
   "outputs": [
    {
     "name": "stdout",
     "output_type": "stream",
     "text": [
      "img load done, targets switched\n"
     ]
    }
   ],
   "source": [
    "#Set up subset of full dataset for training, switch some targets\n",
    "numsamps2use       = 200\n",
    "num_target_2switch = 45\n",
    "X_train = X_train[0:numsamps2use,]  #only need smaller subset to get good results\n",
    "Y_train = Y_train[0:numsamps2use,]\n",
    "\n",
    "#now switch some target values\n",
    "for i in range(num_target_2switch):\n",
    "    inds_2switch = np.random.choice(np.arange(numsamps2use),2)\n",
    "    temp_targ                = Y_train[inds_2switch[1]]\n",
    "    Y_train[inds_2switch[1]] = Y_train[inds_2switch[0]]\n",
    "    Y_train[inds_2switch[0]] = temp_targ\n",
    "\n",
    "print('img load done, targets switched')\n"
   ]
  },
  {
   "cell_type": "code",
   "execution_count": 5,
   "metadata": {},
   "outputs": [
    {
     "name": "stdout",
     "output_type": "stream",
     "text": [
      "added dimension\n"
     ]
    }
   ],
   "source": [
    "# --------- Reshape input data ------------\n",
    "#  b/c Keras expects N-3D images (ie 4D matrix)\n",
    "#np.expand_dims(X_train[i], 0)\n",
    "X_train = X_train[:,:,:,np.newaxis]\n",
    "X_test  = X_test[:,:,:,np.newaxis]\n",
    "\n",
    "print('added dimension')"
   ]
  },
  {
   "cell_type": "code",
   "execution_count": 6,
   "metadata": {},
   "outputs": [
    {
     "name": "stdout",
     "output_type": "stream",
     "text": [
      "prep done, max value in images: 1.0\n"
     ]
    }
   ],
   "source": [
    "#convert and put into 0-1 range\n",
    "X_train  = X_train.astype('float32')\n",
    "X_test   = X_test.astype('float32')\n",
    "\n",
    "#Scale 0 to 1  - or should we not scale\n",
    "X_train /= 255\n",
    "X_test  /= 255\n",
    "\n",
    "# Convert 1-dimensional class arrays to 10-dimensional class matrices\n",
    "Y_train = keras.utils.to_categorical(Y_train, 10)\n",
    "Y_test  = keras.utils.to_categorical(Y_test,  10)\n",
    "\n",
    "# ------------- End loading and preparing data --------------\n",
    "xtmax = np.amax(X_train)   #this gets the max value over a flattened numpy array\n",
    "print('prep done, max value in images: '+str(xtmax))\n"
   ]
  },
  {
   "cell_type": "markdown",
   "metadata": {},
   "source": [
    "## Next cells set up model and run fit, then plot performance ##"
   ]
  },
  {
   "cell_type": "code",
   "execution_count": 7,
   "metadata": {},
   "outputs": [
    {
     "name": "stdout",
     "output_type": "stream",
     "text": [
      "added layers to model\n"
     ]
    }
   ],
   "source": [
    "# --------------Set up Model ---------------------\n",
    "mymodel = keras.models.Sequential()\n",
    "\n",
    "numfilters = 64  \n",
    "mymodel.add(Convolution2D(numfilters, (3,3), strides=1,  data_format=\"channels_last\", activation='relu', input_shape=(28,28,1))) \n",
    "mymodel.add(Convolution2D(numfilters, (3,3), strides=1,  data_format=\"channels_last\", activation='relu'))\n",
    "mymodel.add(MaxPooling2D(pool_size=(2,2),strides=2,data_format=\"channels_last\")) \n",
    "mymodel.add(Flatten())         \n",
    "\n",
    "#----- add final classification layers\n",
    "mymodel.add(Dense(64, activation='relu'))   #<<<<---- Add the L1 reglzer option here  \n",
    "                                            #<<<<-----optionally add dropout or normalization here\n",
    "                                            #<<<<----- as in add(Dropout(0.50)) or add(BatchNormilzation(axis=-1))\n",
    "mymodel.add(Dense(10, activation='softmax'))\n",
    "\n",
    "print('added layers to model')"
   ]
  },
  {
   "cell_type": "code",
   "execution_count": 8,
   "metadata": {},
   "outputs": [
    {
     "name": "stdout",
     "output_type": "stream",
     "text": [
      "compiled\n",
      "Model: \"sequential\"\n",
      "_________________________________________________________________\n",
      "Layer (type)                 Output Shape              Param #   \n",
      "=================================================================\n",
      "conv2d (Conv2D)              (None, 26, 26, 64)        640       \n",
      "_________________________________________________________________\n",
      "conv2d_1 (Conv2D)            (None, 24, 24, 64)        36928     \n",
      "_________________________________________________________________\n",
      "max_pooling2d (MaxPooling2D) (None, 12, 12, 64)        0         \n",
      "_________________________________________________________________\n",
      "flatten (Flatten)            (None, 9216)              0         \n",
      "_________________________________________________________________\n",
      "dense (Dense)                (None, 64)                589888    \n",
      "_________________________________________________________________\n",
      "dense_1 (Dense)              (None, 10)                650       \n",
      "=================================================================\n",
      "Total params: 628,106\n",
      "Trainable params: 628,106\n",
      "Non-trainable params: 0\n",
      "_________________________________________________________________\n"
     ]
    }
   ],
   "source": [
    "# --------- Now assemble (ie compile TensorFlow commands) and run -----\n",
    "mymodel.compile(loss='categorical_crossentropy',\n",
    "               optimizer='adam',\n",
    "               metrics=['accuracy'])\n",
    "print('compiled')\n",
    "mymodel.summary()\n"
   ]
  },
  {
   "cell_type": "code",
   "execution_count": 9,
   "metadata": {},
   "outputs": [
    {
     "name": "stdout",
     "output_type": "stream",
     "text": [
      "Epoch 1/100\n",
      "4/4 [==============================] - 1s 254ms/step - loss: 2.2940 - accuracy: 0.1500 - val_loss: 2.1869 - val_accuracy: 0.2794\n",
      "Epoch 2/100\n",
      "4/4 [==============================] - 1s 268ms/step - loss: 2.1210 - accuracy: 0.2900 - val_loss: 1.9700 - val_accuracy: 0.4347\n",
      "Epoch 3/100\n",
      "1/4 [======>.......................] - ETA: 0s - loss: 1.9164 - accuracy: 0.4375WARNING:tensorflow:From /usr/local/lib/python3.6/dist-packages/tensorflow/python/ops/summary_ops_v2.py:1277: stop (from tensorflow.python.eager.profiler) is deprecated and will be removed after 2020-07-01.\n",
      "Instructions for updating:\n",
      "use `tf.profiler.experimental.stop` instead.\n",
      "4/4 [==============================] - 1s 264ms/step - loss: 1.8929 - accuracy: 0.4600 - val_loss: 1.6637 - val_accuracy: 0.5084\n",
      "Epoch 4/100\n",
      "4/4 [==============================] - 1s 207ms/step - loss: 1.6445 - accuracy: 0.5250 - val_loss: 1.4980 - val_accuracy: 0.5305\n",
      "Epoch 5/100\n",
      "4/4 [==============================] - 1s 197ms/step - loss: 1.4681 - accuracy: 0.5850 - val_loss: 1.3413 - val_accuracy: 0.5502\n",
      "Epoch 6/100\n",
      "4/4 [==============================] - 1s 209ms/step - loss: 1.4383 - accuracy: 0.5950 - val_loss: 1.4524 - val_accuracy: 0.5417\n",
      "Epoch 7/100\n",
      "4/4 [==============================] - 1s 193ms/step - loss: 1.3247 - accuracy: 0.6100 - val_loss: 1.4815 - val_accuracy: 0.5391\n",
      "Epoch 8/100\n",
      "4/4 [==============================] - 1s 198ms/step - loss: 1.2363 - accuracy: 0.6300 - val_loss: 1.5109 - val_accuracy: 0.5395\n",
      "Epoch 9/100\n",
      "4/4 [==============================] - 1s 198ms/step - loss: 1.2484 - accuracy: 0.6400 - val_loss: 1.5205 - val_accuracy: 0.5220\n",
      "Epoch 10/100\n",
      "4/4 [==============================] - 1s 201ms/step - loss: 1.1302 - accuracy: 0.6750 - val_loss: 1.3879 - val_accuracy: 0.5639\n",
      "Epoch 11/100\n",
      "4/4 [==============================] - 1s 247ms/step - loss: 0.9371 - accuracy: 0.7150 - val_loss: 1.4382 - val_accuracy: 0.5639\n",
      "Epoch 12/100\n",
      "4/4 [==============================] - 1s 208ms/step - loss: 0.8848 - accuracy: 0.7200 - val_loss: 1.4250 - val_accuracy: 0.5678\n",
      "Epoch 13/100\n",
      "4/4 [==============================] - 1s 220ms/step - loss: 0.7548 - accuracy: 0.7550 - val_loss: 1.5239 - val_accuracy: 0.5602\n",
      "Epoch 14/100\n",
      "4/4 [==============================] - 1s 228ms/step - loss: 0.6770 - accuracy: 0.7750 - val_loss: 1.6227 - val_accuracy: 0.5310\n",
      "Epoch 15/100\n",
      "4/4 [==============================] - 1s 203ms/step - loss: 0.6127 - accuracy: 0.8050 - val_loss: 1.5779 - val_accuracy: 0.5335\n",
      "Epoch 16/100\n",
      "4/4 [==============================] - 1s 219ms/step - loss: 0.5324 - accuracy: 0.8350 - val_loss: 1.5833 - val_accuracy: 0.5174\n",
      "Epoch 17/100\n",
      "4/4 [==============================] - 1s 228ms/step - loss: 0.4805 - accuracy: 0.8700 - val_loss: 1.7038 - val_accuracy: 0.5154\n",
      "Epoch 18/100\n",
      "4/4 [==============================] - 1s 216ms/step - loss: 0.3989 - accuracy: 0.8850 - val_loss: 1.8978 - val_accuracy: 0.5053\n",
      "Epoch 19/100\n",
      "4/4 [==============================] - 1s 212ms/step - loss: 0.3625 - accuracy: 0.8900 - val_loss: 1.8081 - val_accuracy: 0.5200\n",
      "Epoch 20/100\n",
      "4/4 [==============================] - 1s 212ms/step - loss: 0.3217 - accuracy: 0.8850 - val_loss: 1.9609 - val_accuracy: 0.4992\n",
      "Epoch 21/100\n",
      "4/4 [==============================] - 1s 204ms/step - loss: 0.3849 - accuracy: 0.8500 - val_loss: 2.1987 - val_accuracy: 0.4605\n",
      "Epoch 22/100\n",
      "4/4 [==============================] - 1s 235ms/step - loss: 0.2945 - accuracy: 0.9100 - val_loss: 2.3198 - val_accuracy: 0.4654\n",
      "Epoch 23/100\n",
      "4/4 [==============================] - 1s 218ms/step - loss: 0.3013 - accuracy: 0.8850 - val_loss: 2.0869 - val_accuracy: 0.5064\n",
      "Epoch 24/100\n",
      "4/4 [==============================] - 1s 202ms/step - loss: 0.1677 - accuracy: 0.9450 - val_loss: 2.0048 - val_accuracy: 0.5192\n",
      "Epoch 25/100\n",
      "4/4 [==============================] - 1s 218ms/step - loss: 0.1853 - accuracy: 0.9350 - val_loss: 2.0856 - val_accuracy: 0.5162\n"
     ]
    }
   ],
   "source": [
    "from tensorflow.keras.callbacks import EarlyStopping\n",
    "my_ES_function = EarlyStopping(monitor='val_loss', mode='min',  patience=20)\n",
    "\n",
    "my_tensorboard_callback = tf.keras.callbacks.TensorBoard(logdir, histogram_freq=1,\n",
    "                                                        profile_batch=\"5,10\")\n",
    "       #Use profile_batch to get performance info for some iterations\n",
    "    \n",
    "fit_history=mymodel.fit(X_train, Y_train, #validation_split=0.20,\n",
    "          validation_data=(X_test,Y_test),\n",
    "          batch_size=64, epochs=100, verbose=1,callbacks=[my_ES_function,my_tensorboard_callback])"
   ]
  },
  {
   "cell_type": "code",
   "execution_count": 10,
   "metadata": {},
   "outputs": [],
   "source": [
    "#"
   ]
  },
  {
   "cell_type": "code",
   "execution_count": 11,
   "metadata": {},
   "outputs": [
    {
     "name": "stdout",
     "output_type": "stream",
     "text": [
      "dict_keys(['loss', 'accuracy', 'val_loss', 'val_accuracy'])\n"
     ]
    },
    {
     "data": {
      "image/png": "[encoded data removed]",
      "text/plain": [
       "<matplotlib.figure.Figure at 0x7ffeb07485c0>"
      ]
     },
     "metadata": {},
     "output_type": "display_data"
    }
   ],
   "source": [
    "# Plot the fit history\n",
    "import matplotlib.pyplot as plt     \n",
    "import matplotlib.image as mpimg\n",
    "%matplotlib inline                   \n",
    "\n",
    "# list data fields that are available in history\n",
    "print(fit_history.history.keys())\n",
    "\n",
    "# summarize history for accuracy\n",
    "metric2plot='accuracy'\n",
    "plt.figure()\n",
    "plt.plot(fit_history.history[metric2plot])\n",
    "plt.plot(fit_history.history['val_'+metric2plot])\n",
    "plt.title('2nd last layer:'+mymodel.layers[-2].name+'; '+metric2plot+' over training;')\n",
    "plt.ylabel(metric2plot)\n",
    "plt.xlabel('epoch')\n",
    "plt.legend(['train', 'val_test'], loc='upper left')\n",
    "plt.show()"
   ]
  },
  {
   "cell_type": "code",
   "execution_count": 12,
   "metadata": {},
   "outputs": [],
   "source": [
    "#plt.savefig('mytest_1.png')  # if you want to save a plot"
   ]
  }
 ],
 "metadata": {
  "kernelspec": {
   "display_name": "Python 3",
   "language": "python",
   "name": "python3"
  },
  "language_info": {
   "codemirror_mode": {
    "name": "ipython",
    "version": 3
   },
   "file_extension": ".py",
   "mimetype": "text/x-python",
   "name": "python",
   "nbconvert_exporter": "python",
   "pygments_lexer": "ipython3",
   "version": "3.6.9"
  }
 },
 "nbformat": 4,
 "nbformat_minor": 4
}
