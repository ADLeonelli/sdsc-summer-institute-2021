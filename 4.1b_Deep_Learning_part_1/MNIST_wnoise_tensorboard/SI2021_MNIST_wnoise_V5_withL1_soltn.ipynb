{
 "cells": [
  {
   "cell_type": "markdown",
   "metadata": {},
   "source": [
    "## CIML MNIST with regularization and tensorboard exercise\n",
    "\n",
    "**Goal: explore regularization methods with a noisy MNIST and use tensorboard**\n",
    "\n",
    "Adding noise makes MNIST harder so we can see effects of \n",
    "L1 regularization, DropOut, or, Batch Normalization\n",
    "\n",
    "**Tasks:** \n",
    "<br>\n",
    "1  Run the code as is, with no regularization\n",
    "<br>\n",
    "2  Run the code with L1 regularization  (note the default value is 0.01)\n",
    "<br>   Add this option to the first dense layer\n",
    "<br> $\\;\\;\\;\\;\\;$        \"kernel_regularizer=keras.regularizers.l1(0.01)\"\n",
    "<br>\n",
    "3  Run tensorboard and see the effects of L1 on histograms of the weights\n",
    "<br>  Open a terminal window in Jupyter Lab, find the folder with the logs, enter:\n",
    "<br> $\\;\\;\\;\\;\\;$ > tensorboard dev upload --logdir logs\n",
    "    --name \"my MNIST exercise\" \\\n",
    "    --description \" regularization test\"\n",
    "\n",
    "<br>\n",
    "$\\;\\;\\;\\;\\;$ Then cut & paste the URL to open tensorboard display\n",
    "<br>\n",
    "$\\;\\;\\;\\;\\;$ Find the histogram tab (only weights are logged)\n",
    "<br>\n",
    "$\\;\\;\\;\\;\\;$ Toggle the log data you want to see (left side)\n",
    "\n",
    "**Advanced**\n",
    "<br>\n",
    "Add a dropout layer (after first dense layer), see how it affects overfitting \n",
    "    ... add(Dropout(0.50))                 #zeros out 50% of activations\n",
    "<br>\n",
    "Add a batch_normalization layer\n",
    "    ... add(BatchNormalization(axis=-1))    #normalize activations of last dimension"
   ]
  },
  {
   "cell_type": "markdown",
   "metadata": {},
   "source": [
    "## Next cell sets up directory for tensorboard logs ## "
   ]
  },
  {
   "cell_type": "code",
   "execution_count": 1,
   "metadata": {},
   "outputs": [
    {
     "name": "stdout",
     "output_type": "stream",
     "text": [
      "using logs/20210726-183819_test  for logs\n"
     ]
    }
   ],
   "source": [
    "#Set up the location for tensorflow logs\n",
    "import datetime, os\n",
    "logdir  = os.path.join(\"logs\", \n",
    "                datetime.datetime.now().strftime(\"%Y%m%d-%H%M%S\")+'_'+ \\\n",
    "                       'test')   #<<<<<----- you can add a comment to describe the test\n",
    "print('using',logdir,' for logs')"
   ]
  },
  {
   "cell_type": "code",
   "execution_count": 2,
   "metadata": {},
   "outputs": [
    {
     "name": "stdout",
     "output_type": "stream",
     "text": [
      "import done\n"
     ]
    }
   ],
   "source": [
    "# ----------- IMPORT STATEMENTS ---------------\n",
    "import numpy as np\n",
    "np.random.seed(1)  # for reproducibility\n",
    " \n",
    "from tensorflow import keras\n",
    "\n",
    "from tensorflow.keras.models import Sequential               #Sequential models are the standard stack of layers models\n",
    "from tensorflow.keras.layers import Dense, BatchNormalization, Dropout, Activation, Flatten   #These are core layer specification functions\n",
    "from tensorflow.keras.layers import Convolution2D, MaxPooling2D      #These are convolution layer functions\n",
    "from tensorflow.keras import optimizers                             #For training algorithm\n",
    "\n",
    "# Load the TensorBoard notebook extension\n",
    "#%load_ext tensorboard\n",
    "\n",
    "import tensorflow as tf\n",
    "#---------------------------------------------\n",
    "print('import done')"
   ]
  },
  {
   "cell_type": "code",
   "execution_count": 4,
   "metadata": {},
   "outputs": [
    {
     "name": "stdout",
     "output_type": "stream",
     "text": [
      "data loaded:(60000, 28, 28)\n"
     ]
    }
   ],
   "source": [
    "#Load MNIST data from Keras datasets\n",
    "(X_train, Y_train), (X_test, Y_test) = tf.keras.datasets.mnist.load_data()\n",
    "\n",
    "print('data loaded:'+str(X_train.shape))"
   ]
  },
  {
   "cell_type": "markdown",
   "metadata": {},
   "source": [
    "## Next cell switches some labels as noise, and only uses first 200 samples for training, to make the task harder to learn ##"
   ]
  },
  {
   "cell_type": "code",
   "execution_count": 5,
   "metadata": {},
   "outputs": [
    {
     "name": "stdout",
     "output_type": "stream",
     "text": [
      "img load done, targets switched\n"
     ]
    }
   ],
   "source": [
    "#Set up subset of full dataset for training, switch some targets\n",
    "numsamps2use       = 200\n",
    "num_target_2switch = 45\n",
    "X_train = X_train[0:numsamps2use,]  #only need smaller subset to get good results\n",
    "Y_train = Y_train[0:numsamps2use,]\n",
    "\n",
    "#now switch some target values\n",
    "for i in range(num_target_2switch):\n",
    "    inds_2switch = np.random.choice(np.arange(numsamps2use),2)\n",
    "    temp_targ                = Y_train[inds_2switch[1]]\n",
    "    Y_train[inds_2switch[1]] = Y_train[inds_2switch[0]]\n",
    "    Y_train[inds_2switch[0]] = temp_targ\n",
    "\n",
    "print('img load done, targets switched')\n"
   ]
  },
  {
   "cell_type": "code",
   "execution_count": 6,
   "metadata": {},
   "outputs": [
    {
     "name": "stdout",
     "output_type": "stream",
     "text": [
      "added dimension\n"
     ]
    }
   ],
   "source": [
    "# --------- Reshape input data ------------\n",
    "#  b/c Keras expects N-3D images (ie 4D matrix)\n",
    "#np.expand_dims(X_train[i], 0)\n",
    "X_train = X_train[:,:,:,np.newaxis]\n",
    "X_test  = X_test[:,:,:,np.newaxis]\n",
    "\n",
    "print('added dimension')"
   ]
  },
  {
   "cell_type": "code",
   "execution_count": 7,
   "metadata": {},
   "outputs": [
    {
     "name": "stdout",
     "output_type": "stream",
     "text": [
      "prep done, max value in images: 1.0\n"
     ]
    }
   ],
   "source": [
    "#convert and put into 0-1 range\n",
    "X_train  = X_train.astype('float32')\n",
    "X_test   = X_test.astype('float32')\n",
    "\n",
    "#Scale 0 to 1  - or should we not scale\n",
    "X_train /= 255\n",
    "X_test  /= 255\n",
    "\n",
    "# Convert 1-dimensional class arrays to 10-dimensional class matrices\n",
    "Y_train = keras.utils.to_categorical(Y_train, 10)\n",
    "Y_test  = keras.utils.to_categorical(Y_test,  10)\n",
    "\n",
    "# ------------- End loading and preparing data --------------\n",
    "xtmax = np.amax(X_train)   #this gets the max value over a flattened numpy array\n",
    "print('prep done, max value in images: '+str(xtmax))\n"
   ]
  },
  {
   "cell_type": "markdown",
   "metadata": {},
   "source": [
    "## Next cells set up model and run fit, then plot performance ##"
   ]
  },
  {
   "cell_type": "code",
   "execution_count": 8,
   "metadata": {},
   "outputs": [
    {
     "name": "stdout",
     "output_type": "stream",
     "text": [
      "added layers to model\n"
     ]
    }
   ],
   "source": [
    "# --------------Set up Model ---------------------\n",
    "mymodel = keras.models.Sequential()\n",
    "\n",
    "numfilters = 64  \n",
    "mymodel.add(Convolution2D(numfilters, (3,3), strides=1,  data_format=\"channels_last\", activation='relu', input_shape=(28,28,1))) \n",
    "mymodel.add(Convolution2D(numfilters, (3,3), strides=1,  data_format=\"channels_last\", activation='relu'))\n",
    "mymodel.add(MaxPooling2D(pool_size=(2,2),strides=2,data_format=\"channels_last\")) \n",
    "mymodel.add(Flatten())         \n",
    "\n",
    "#----- add final classification layers\n",
    "mymodel.add(Dense(64, activation='relu',kernel_regularizer=keras.regularizers.l1(0.01)))  \n",
    "                                            #<<<<---- Add the L1 reglzer option here  \n",
    "                                            #<<<<-----optionally add dropout or normalization here\n",
    "                                            #<<<<----- as in add(Dropout(0.50)) or add(BatchNormilzation(axis=-1))\n",
    "mymodel.add(Dense(10, activation='softmax'))\n",
    "\n",
    "print('added layers to model')"
   ]
  },
  {
   "cell_type": "code",
   "execution_count": 9,
   "metadata": {},
   "outputs": [
    {
     "name": "stdout",
     "output_type": "stream",
     "text": [
      "compiled\n",
      "Model: \"sequential\"\n",
      "_________________________________________________________________\n",
      "Layer (type)                 Output Shape              Param #   \n",
      "=================================================================\n",
      "conv2d (Conv2D)              (None, 26, 26, 64)        640       \n",
      "_________________________________________________________________\n",
      "conv2d_1 (Conv2D)            (None, 24, 24, 64)        36928     \n",
      "_________________________________________________________________\n",
      "max_pooling2d (MaxPooling2D) (None, 12, 12, 64)        0         \n",
      "_________________________________________________________________\n",
      "flatten (Flatten)            (None, 9216)              0         \n",
      "_________________________________________________________________\n",
      "dense (Dense)                (None, 64)                589888    \n",
      "_________________________________________________________________\n",
      "dense_1 (Dense)              (None, 10)                650       \n",
      "=================================================================\n",
      "Total params: 628,106\n",
      "Trainable params: 628,106\n",
      "Non-trainable params: 0\n",
      "_________________________________________________________________\n"
     ]
    }
   ],
   "source": [
    "# --------- Now assemble (ie compile TensorFlow commands) and run -----\n",
    "mymodel.compile(loss='categorical_crossentropy',\n",
    "               optimizer='adam',\n",
    "               metrics=['accuracy'])\n",
    "print('compiled')\n",
    "mymodel.summary()\n"
   ]
  },
  {
   "cell_type": "code",
   "execution_count": 10,
   "metadata": {},
   "outputs": [
    {
     "name": "stdout",
     "output_type": "stream",
     "text": [
      "Epoch 1/100\n",
      "4/4 [==============================] - 1s 263ms/step - loss: 71.3206 - accuracy: 0.1250 - val_loss: 56.1686 - val_accuracy: 0.2736\n",
      "Epoch 2/100\n",
      "4/4 [==============================] - 1s 280ms/step - loss: 51.2775 - accuracy: 0.2600 - val_loss: 39.1504 - val_accuracy: 0.1924\n",
      "Epoch 3/100\n",
      "1/4 [======>.......................] - ETA: 0s - loss: 39.1297 - accuracy: 0.2812WARNING:tensorflow:From /usr/local/lib/python3.6/dist-packages/tensorflow/python/ops/summary_ops_v2.py:1277: stop (from tensorflow.python.eager.profiler) is deprecated and will be removed after 2020-07-01.\n",
      "Instructions for updating:\n",
      "use `tf.profiler.experimental.stop` instead.\n",
      "4/4 [==============================] - 1s 292ms/step - loss: 35.3392 - accuracy: 0.2300 - val_loss: 26.0260 - val_accuracy: 0.3307\n",
      "Epoch 4/100\n",
      "4/4 [==============================] - 1s 208ms/step - loss: 23.2297 - accuracy: 0.2900 - val_loss: 16.6620 - val_accuracy: 0.3911\n",
      "Epoch 5/100\n",
      "4/4 [==============================] - 1s 201ms/step - loss: 14.8463 - accuracy: 0.3400 - val_loss: 10.9124 - val_accuracy: 0.1059\n",
      "Epoch 6/100\n",
      "4/4 [==============================] - 1s 209ms/step - loss: 10.0677 - accuracy: 0.1100 - val_loss: 8.5702 - val_accuracy: 0.4317\n",
      "Epoch 7/100\n",
      "4/4 [==============================] - 1s 198ms/step - loss: 8.6265 - accuracy: 0.3650 - val_loss: 8.5168 - val_accuracy: 0.3702\n",
      "Epoch 8/100\n",
      "4/4 [==============================] - 1s 243ms/step - loss: 8.2347 - accuracy: 0.3400 - val_loss: 6.9563 - val_accuracy: 0.4718\n",
      "Epoch 9/100\n",
      "4/4 [==============================] - 1s 235ms/step - loss: 6.6394 - accuracy: 0.4650 - val_loss: 5.4333 - val_accuracy: 0.5415\n",
      "Epoch 10/100\n",
      "4/4 [==============================] - 1s 229ms/step - loss: 5.3224 - accuracy: 0.4950 - val_loss: 5.0060 - val_accuracy: 0.5015\n",
      "Epoch 11/100\n",
      "4/4 [==============================] - 1s 245ms/step - loss: 5.0093 - accuracy: 0.4750 - val_loss: 4.4227 - val_accuracy: 0.5778\n",
      "Epoch 12/100\n",
      "4/4 [==============================] - 1s 224ms/step - loss: 4.4906 - accuracy: 0.4500 - val_loss: 4.0649 - val_accuracy: 0.4431\n",
      "Epoch 13/100\n",
      "4/4 [==============================] - 1s 242ms/step - loss: 4.0631 - accuracy: 0.4150 - val_loss: 3.9060 - val_accuracy: 0.4900\n",
      "Epoch 14/100\n",
      "4/4 [==============================] - 1s 235ms/step - loss: 3.9825 - accuracy: 0.4300 - val_loss: 3.6787 - val_accuracy: 0.4621\n",
      "Epoch 15/100\n",
      "4/4 [==============================] - 1s 195ms/step - loss: 3.6724 - accuracy: 0.4850 - val_loss: 3.6159 - val_accuracy: 0.4692\n",
      "Epoch 16/100\n",
      "4/4 [==============================] - 1s 253ms/step - loss: 3.5337 - accuracy: 0.4700 - val_loss: 3.3474 - val_accuracy: 0.4716\n",
      "Epoch 17/100\n",
      "4/4 [==============================] - 1s 223ms/step - loss: 3.3380 - accuracy: 0.4800 - val_loss: 3.1435 - val_accuracy: 0.5487\n",
      "Epoch 18/100\n",
      "4/4 [==============================] - 1s 211ms/step - loss: 3.1792 - accuracy: 0.5450 - val_loss: 3.0253 - val_accuracy: 0.6067\n",
      "Epoch 19/100\n",
      "4/4 [==============================] - 1s 208ms/step - loss: 3.0664 - accuracy: 0.5650 - val_loss: 2.9774 - val_accuracy: 0.5670\n",
      "Epoch 20/100\n",
      "4/4 [==============================] - 1s 199ms/step - loss: 3.1416 - accuracy: 0.4850 - val_loss: 3.0356 - val_accuracy: 0.5054\n",
      "Epoch 21/100\n",
      "4/4 [==============================] - 1s 202ms/step - loss: 2.9443 - accuracy: 0.5850 - val_loss: 3.0977 - val_accuracy: 0.5106\n",
      "Epoch 22/100\n",
      "4/4 [==============================] - 1s 199ms/step - loss: 3.0220 - accuracy: 0.5100 - val_loss: 2.9776 - val_accuracy: 0.5584\n",
      "Epoch 23/100\n",
      "4/4 [==============================] - 1s 185ms/step - loss: 2.8800 - accuracy: 0.5800 - val_loss: 2.9088 - val_accuracy: 0.5377\n",
      "Epoch 24/100\n",
      "4/4 [==============================] - 1s 195ms/step - loss: 2.8052 - accuracy: 0.5050 - val_loss: 2.8102 - val_accuracy: 0.5708\n",
      "Epoch 25/100\n",
      "4/4 [==============================] - 1s 227ms/step - loss: 2.7062 - accuracy: 0.6100 - val_loss: 2.8622 - val_accuracy: 0.5745\n",
      "Epoch 26/100\n",
      "4/4 [==============================] - 1s 221ms/step - loss: 2.7601 - accuracy: 0.5750 - val_loss: 2.8199 - val_accuracy: 0.5604\n",
      "Epoch 27/100\n",
      "4/4 [==============================] - 1s 215ms/step - loss: 2.7017 - accuracy: 0.6300 - val_loss: 2.8955 - val_accuracy: 0.5017\n",
      "Epoch 28/100\n",
      "4/4 [==============================] - 1s 215ms/step - loss: 2.6556 - accuracy: 0.6000 - val_loss: 2.8377 - val_accuracy: 0.5379\n",
      "Epoch 29/100\n",
      "4/4 [==============================] - 1s 209ms/step - loss: 2.5990 - accuracy: 0.6350 - val_loss: 2.7818 - val_accuracy: 0.5499\n",
      "Epoch 30/100\n",
      "4/4 [==============================] - 1s 216ms/step - loss: 2.6052 - accuracy: 0.6350 - val_loss: 2.9665 - val_accuracy: 0.5130\n",
      "Epoch 31/100\n",
      "4/4 [==============================] - 1s 202ms/step - loss: 2.6461 - accuracy: 0.5850 - val_loss: 3.0823 - val_accuracy: 0.5133\n",
      "Epoch 32/100\n",
      "4/4 [==============================] - 1s 200ms/step - loss: 2.5775 - accuracy: 0.6100 - val_loss: 2.8202 - val_accuracy: 0.5724\n",
      "Epoch 33/100\n",
      "4/4 [==============================] - 1s 215ms/step - loss: 2.5735 - accuracy: 0.6050 - val_loss: 2.7573 - val_accuracy: 0.5937\n",
      "Epoch 34/100\n",
      "4/4 [==============================] - 1s 202ms/step - loss: 2.4684 - accuracy: 0.6600 - val_loss: 2.8348 - val_accuracy: 0.5679\n",
      "Epoch 35/100\n",
      "4/4 [==============================] - 1s 230ms/step - loss: 2.4713 - accuracy: 0.6550 - val_loss: 2.8581 - val_accuracy: 0.5501\n",
      "Epoch 36/100\n",
      "4/4 [==============================] - 1s 219ms/step - loss: 2.3945 - accuracy: 0.6800 - val_loss: 3.1155 - val_accuracy: 0.4836\n",
      "Epoch 37/100\n",
      "4/4 [==============================] - 1s 219ms/step - loss: 2.5103 - accuracy: 0.6500 - val_loss: 3.1056 - val_accuracy: 0.5067\n",
      "Epoch 38/100\n",
      "4/4 [==============================] - 1s 205ms/step - loss: 2.5093 - accuracy: 0.6300 - val_loss: 2.8781 - val_accuracy: 0.5571\n",
      "Epoch 39/100\n",
      "4/4 [==============================] - 1s 199ms/step - loss: 2.4910 - accuracy: 0.6600 - val_loss: 2.9819 - val_accuracy: 0.5265\n",
      "Epoch 40/100\n",
      "4/4 [==============================] - 1s 198ms/step - loss: 2.3981 - accuracy: 0.6750 - val_loss: 2.9497 - val_accuracy: 0.5256\n",
      "Epoch 41/100\n",
      "4/4 [==============================] - 1s 205ms/step - loss: 2.3967 - accuracy: 0.7050 - val_loss: 2.8976 - val_accuracy: 0.5519\n",
      "Epoch 42/100\n",
      "4/4 [==============================] - 1s 226ms/step - loss: 2.3142 - accuracy: 0.7250 - val_loss: 2.9993 - val_accuracy: 0.5202\n",
      "Epoch 43/100\n",
      "4/4 [==============================] - 1s 207ms/step - loss: 2.4364 - accuracy: 0.6850 - val_loss: 3.0449 - val_accuracy: 0.4988\n",
      "Epoch 44/100\n",
      "4/4 [==============================] - 1s 207ms/step - loss: 2.5055 - accuracy: 0.6700 - val_loss: 3.0708 - val_accuracy: 0.4995\n",
      "Epoch 45/100\n",
      "4/4 [==============================] - 1s 232ms/step - loss: 2.3912 - accuracy: 0.6800 - val_loss: 3.1818 - val_accuracy: 0.4722\n",
      "Epoch 46/100\n",
      "4/4 [==============================] - 1s 231ms/step - loss: 2.3972 - accuracy: 0.7050 - val_loss: 2.8457 - val_accuracy: 0.5471\n",
      "Epoch 47/100\n",
      "4/4 [==============================] - 1s 213ms/step - loss: 2.2637 - accuracy: 0.7100 - val_loss: 2.8857 - val_accuracy: 0.5521\n",
      "Epoch 48/100\n",
      "4/4 [==============================] - 1s 221ms/step - loss: 2.2250 - accuracy: 0.7250 - val_loss: 3.1112 - val_accuracy: 0.4976\n",
      "Epoch 49/100\n",
      "4/4 [==============================] - 1s 211ms/step - loss: 2.1985 - accuracy: 0.7150 - val_loss: 2.9505 - val_accuracy: 0.5301\n",
      "Epoch 50/100\n",
      "4/4 [==============================] - 1s 229ms/step - loss: 2.1418 - accuracy: 0.7450 - val_loss: 3.0483 - val_accuracy: 0.5246\n",
      "Epoch 51/100\n",
      "4/4 [==============================] - 1s 208ms/step - loss: 2.2112 - accuracy: 0.7000 - val_loss: 3.1486 - val_accuracy: 0.4966\n",
      "Epoch 52/100\n",
      "4/4 [==============================] - 1s 221ms/step - loss: 2.2605 - accuracy: 0.6850 - val_loss: 3.0629 - val_accuracy: 0.5068\n",
      "Epoch 53/100\n",
      "4/4 [==============================] - 1s 210ms/step - loss: 2.2145 - accuracy: 0.7100 - val_loss: 3.0027 - val_accuracy: 0.5176\n"
     ]
    }
   ],
   "source": [
    "from tensorflow.keras.callbacks import EarlyStopping\n",
    "my_ES_function = EarlyStopping(monitor='val_loss', mode='min',  patience=20)\n",
    "\n",
    "my_tensorboard_callback = tf.keras.callbacks.TensorBoard(logdir, histogram_freq=1,\n",
    "                                                        profile_batch=\"5,10\")\n",
    "       #Use profile_batch to get performance info for some iterations\n",
    "    \n",
    "fit_history=mymodel.fit(X_train, Y_train, #validation_split=0.20,\n",
    "          validation_data=(X_test,Y_test),\n",
    "          batch_size=64, epochs=100, verbose=1,callbacks=[my_ES_function,my_tensorboard_callback])"
   ]
  },
  {
   "cell_type": "code",
   "execution_count": 11,
   "metadata": {},
   "outputs": [],
   "source": [
    "#"
   ]
  },
  {
   "cell_type": "code",
   "execution_count": 12,
   "metadata": {},
   "outputs": [
    {
     "name": "stdout",
     "output_type": "stream",
     "text": [
      "dict_keys(['loss', 'accuracy', 'val_loss', 'val_accuracy'])\n"
     ]
    },
    {
     "data": {
      "image/png": "[encoded data removed]",
      "text/plain": [
       "<matplotlib.figure.Figure at 0x7fff047bca20>"
      ]
     },
     "metadata": {},
     "output_type": "display_data"
    }
   ],
   "source": [
    "# Plot the fit history\n",
    "import matplotlib.pyplot as plt     \n",
    "import matplotlib.image as mpimg\n",
    "%matplotlib inline                   \n",
    "\n",
    "# list data fields that are available in history\n",
    "print(fit_history.history.keys())\n",
    "\n",
    "# summarize history for accuracy\n",
    "metric2plot='accuracy'\n",
    "plt.figure()\n",
    "plt.plot(fit_history.history[metric2plot])\n",
    "plt.plot(fit_history.history['val_'+metric2plot])\n",
    "plt.title('2nd last layer:'+mymodel.layers[-2].name+'; '+metric2plot+' over training;')\n",
    "plt.ylabel(metric2plot)\n",
    "plt.xlabel('epoch')\n",
    "plt.legend(['train', 'val_test'], loc='upper left')\n",
    "plt.show()"
   ]
  },
  {
   "cell_type": "code",
   "execution_count": 12,
   "metadata": {},
   "outputs": [],
   "source": [
    "#plt.savefig('mytest_1.png')  # if you want to save a plot"
   ]
  },
  {
   "cell_type": "code",
   "execution_count": null,
   "metadata": {},
   "outputs": [],
   "source": []
  },
  {
   "cell_type": "code",
   "execution_count": null,
   "metadata": {},
   "outputs": [],
   "source": [
    "#============================================================"
   ]
  },
  {
   "cell_type": "code",
   "execution_count": 33,
   "metadata": {},
   "outputs": [
    {
     "name": "stdout",
     "output_type": "stream",
     "text": [
      " --------- run in a terminal ----------------\n",
      "tensorboard --logdir logs --host 10.21.3.31 --port 4280 &\n",
      "curl 'https://manage.expanse-user-content.sdsc.edu/redeemtoken.cgi?token=rippling-exemption-level&port=4280'\n",
      " --------- load this URL into your browswer----------------\n",
      "https://rippling-exemption-level.expanse-user-content.sdsc.edu\n"
     ]
    }
   ],
   "source": []
  },
  {
   "cell_type": "code",
   "execution_count": 21,
   "metadata": {},
   "outputs": [],
   "source": [
    "#===============================\n"
   ]
  },
  {
   "cell_type": "code",
   "execution_count": 31,
   "metadata": {},
   "outputs": [
    {
     "ename": "SyntaxError",
     "evalue": "invalid syntax (<string>, line 1)",
     "output_type": "error",
     "traceback": [
      "\u001b[0;36m  File \u001b[0;32m\"<string>\"\u001b[0;36m, line \u001b[0;32m1\u001b[0m\n\u001b[0;31m    !curl 'https://manage.expanse-user-content.sdsc.edu/redeemtoken.cgi?token=dwindle-derby-amperage&port=5117'\u001b[0m\n\u001b[0m    ^\u001b[0m\n\u001b[0;31mSyntaxError\u001b[0m\u001b[0;31m:\u001b[0m invalid syntax\n"
     ]
    }
   ],
   "source": []
  },
  {
   "cell_type": "code",
   "execution_count": null,
   "metadata": {},
   "outputs": [],
   "source": []
  }
 ],
 "metadata": {
  "kernelspec": {
   "display_name": "Python 3",
   "language": "python",
   "name": "python3"
  },
  "language_info": {
   "codemirror_mode": {
    "name": "ipython",
    "version": 3
   },
   "file_extension": ".py",
   "mimetype": "text/x-python",
   "name": "python",
   "nbconvert_exporter": "python",
   "pygments_lexer": "ipython3",
   "version": "3.6.9"
  }
 },
 "nbformat": 4,
 "nbformat_minor": 4
}
