{
 "cells": [
  {
   "cell_type": "markdown",
   "metadata": {},
   "source": [
    "## MNIST exercise (handwritten printed digits recognition tutorial) ##\n",
    "**Goal: Introduction to Keras, convolution feature maps, and features**\n",
    "\n",
    "**Exercise:**\n",
    "    \n",
    "1. Review the steps of the code in this notebook\n",
    "2. Look for the model.Sequential statement \n",
    "   and fill in the paramaters for the first Conv2D layer: <br>\n",
    "tf.keras.layers.Conv2D(\n",
    "    filters,\n",
    "    kernel_size,\n",
    "    strides=(1, 1),\n",
    "    activation=..... \n",
    "    )\n",
    "<br>  use 16 for number of filters\n",
    "<br>  use 3,3 for kernel size\n",
    "<br>  use relu for activation\n",
    "\n",
    "3. run the notebook, observe the images of filter weights and activations (at end)\n",
    "4. Try changing the filter size for the first convolution layer to something large (like 9x9 or 16x16)\n",
    "5. compare the filters and activation to the 3x3 filter size\n",
    "\n",
    "<br>\n",
    "Question to consider: for 10 digits what is min number of filters needed?\n",
    "\n"
   ]
  },
  {
   "cell_type": "code",
   "execution_count": 1,
   "metadata": {},
   "outputs": [
    {
     "name": "stdout",
     "output_type": "stream",
     "text": [
      "import done\n"
     ]
    }
   ],
   "source": [
    "\n",
    "# ----------- IMPORT STATEMENTS ---------------\n",
    "import numpy as np\n",
    "np.random.seed(1)  # for reproducibility\n",
    " \n",
    "from tensorflow import keras\n",
    "\n",
    "if 1:\n",
    " from tensorflow.keras.models import Sequential        #the standard stack of layers models\n",
    " from tensorflow.keras.layers import Dense, Dropout, Activation, Flatten   #core layer  functions\n",
    " from tensorflow.keras.layers import Convolution2D, MaxPooling2D, AveragePooling2D     #convolution layer functions\n",
    " from tensorflow.keras import optimizers                             #For training \n",
    "\n",
    "# Load the TensorBoard notebook extension\n",
    "%load_ext tensorboard\n",
    "\n",
    "import tensorflow as tf\n",
    "import datetime, os\n",
    "\n",
    "#---------------------------------------------\n",
    "print('import done')"
   ]
  },
  {
   "cell_type": "code",
   "execution_count": 2,
   "metadata": {},
   "outputs": [
    {
     "name": "stdout",
     "output_type": "stream",
     "text": [
      "Downloading data from https://storage.googleapis.com/tensorflow/tf-keras-datasets/mnist.npz\n",
      "11493376/11490434 [==============================] - 0s 0us/step\n",
      "data loaded:(60000, 28, 28)\n"
     ]
    }
   ],
   "source": [
    "#Load MNIST data from Keras datasets\n",
    "(X_train, Y_train), (X_test, Y_test) = tf.keras.datasets.mnist.load_data()\n",
    "\n",
    "print('data loaded:'+str(X_train.shape))"
   ]
  },
  {
   "cell_type": "code",
   "execution_count": 3,
   "metadata": {},
   "outputs": [
    {
     "name": "stdout",
     "output_type": "stream",
     "text": [
      "train shapes: \n",
      "\n",
      "(1000, 28, 28)\n",
      "(1000,)\n",
      "img load done\n"
     ]
    }
   ],
   "source": [
    "X_train=X_train[0:1000,]  #only need smaller subset to get good results\n",
    "Y_train=Y_train[0:1000,]\n",
    "\n",
    "print('train shapes: \\n')\n",
    "print(X_train.shape)     #review the dimensions Note python3 uses print(X..) python 2 uses print X...\n",
    "print(Y_train.shape)\n",
    "print('img load done')\n"
   ]
  },
  {
   "cell_type": "code",
   "execution_count": 4,
   "metadata": {},
   "outputs": [
    {
     "name": "stdout",
     "output_type": "stream",
     "text": [
      "added dimension\n"
     ]
    }
   ],
   "source": [
    "# --------- Reshape input data ------------\n",
    "#  b/c Keras expects N-3D images (ie 4D matrix)\n",
    "X_train = X_train[:,:,:,np.newaxis]\n",
    "X_test  = X_test[:,:,:,np.newaxis]\n",
    "\n",
    "print('added dimension')"
   ]
  },
  {
   "cell_type": "code",
   "execution_count": 5,
   "metadata": {},
   "outputs": [
    {
     "name": "stdout",
     "output_type": "stream",
     "text": [
      "(1000, 28, 28, 1)\n",
      "(1000, 10)\n",
      "(10000, 28, 28, 1)\n",
      "(10000, 10)\n"
     ]
    }
   ],
   "source": [
    "#convert and put into 0-1 range\n",
    "X_train  = X_train.astype('float32')\n",
    "X_test   = X_test.astype('float32')\n",
    "\n",
    "#Scale 0 to 1  - or should we not scale\n",
    "X_train /= 255\n",
    "X_test  /= 255\n",
    "\n",
    "# Convert 1-dimensional class arrays to 10-dimensional class matrices\n",
    "Y_train = keras.utils.to_categorical(Y_train, 10)\n",
    "Y_test  = keras.utils.to_categorical(Y_test,  10)\n",
    "\n",
    "# ------------- End loading and preparing data --------------\n",
    "#To confirm, we can print X_train's dimensions again:\n",
    "print(X_train.shape)\n",
    "print(Y_train.shape)\n",
    "print(X_test.shape)\n",
    "print(Y_test.shape)\n",
    "\n"
   ]
  },
  {
   "cell_type": "code",
   "execution_count": 6,
   "metadata": {},
   "outputs": [
    {
     "name": "stdout",
     "output_type": "stream",
     "text": [
      "modeldef and first conv layer done\n"
     ]
    }
   ],
   "source": [
    "# --------------Set up Model ---------------------\n",
    "mymodel = keras.models.Sequential()\n",
    "mymodel.add(keras.layers.Convolution2D(16, \n",
    "                                       (3, 3),\n",
    "                                       strides=1,  \n",
    "                                       data_format=\"channels_last\",\n",
    "                                       activation='relu', \n",
    "                                       input_shape=(28,28,1))) \n",
    "#  <<<<<<<<<------EXERCISE fill in blanks, \n",
    " \n",
    "print('modeldef and first conv layer done')\n"
   ]
  },
  {
   "cell_type": "code",
   "execution_count": 7,
   "metadata": {},
   "outputs": [
    {
     "name": "stdout",
     "output_type": "stream",
     "text": [
      "added more layers\n",
      "assemble model done\n"
     ]
    }
   ],
   "source": [
    "#-----------------Now add more Convolution layers\n",
    "mymodel.add(Convolution2D(16, (3, 3), strides=1, data_format=\"channels_last\", activation='relu'))\n",
    "mymodel.add(MaxPooling2D(pool_size=(2,2),strides=2,data_format=\"channels_last\")) #get Max over 2D region,and slide\n",
    "mymodel.add(Flatten())            #reorganize 2DxFilters output into 1D\n",
    "print('added more layers')\n",
    "\n",
    "#----------------Now add final classification layers\n",
    "mymodel.add(Dense(32, activation='relu'))  #enter number of hidden units (no good rule, but start with ~ num of previous output) \n",
    "mymodel.add(Dense(10, activation='softmax'))\n",
    "print('assemble model done')"
   ]
  },
  {
   "cell_type": "code",
   "execution_count": 8,
   "metadata": {},
   "outputs": [
    {
     "name": "stdout",
     "output_type": "stream",
     "text": [
      "compiled\n"
     ]
    }
   ],
   "source": [
    "# --------- Now assemble (ie compile TensorFlow commands) and run -----\n",
    "mymodel.compile(loss='categorical_crossentropy',\n",
    "               optimizer='sgd',\n",
    "               metrics=['accuracy'])\n",
    "print('compiled')"
   ]
  },
  {
   "cell_type": "code",
   "execution_count": 9,
   "metadata": {},
   "outputs": [
    {
     "name": "stdout",
     "output_type": "stream",
     "text": [
      "Model: \"sequential\"\n",
      "_________________________________________________________________\n",
      "Layer (type)                 Output Shape              Param #   \n",
      "=================================================================\n",
      "conv2d (Conv2D)              (None, 26, 26, 16)        160       \n",
      "_________________________________________________________________\n",
      "conv2d_1 (Conv2D)            (None, 24, 24, 16)        2320      \n",
      "_________________________________________________________________\n",
      "max_pooling2d (MaxPooling2D) (None, 12, 12, 16)        0         \n",
      "_________________________________________________________________\n",
      "flatten (Flatten)            (None, 2304)              0         \n",
      "_________________________________________________________________\n",
      "dense (Dense)                (None, 32)                73760     \n",
      "_________________________________________________________________\n",
      "dense_1 (Dense)              (None, 10)                330       \n",
      "=================================================================\n",
      "Total params: 76,570\n",
      "Trainable params: 76,570\n",
      "Non-trainable params: 0\n",
      "_________________________________________________________________\n"
     ]
    }
   ],
   "source": [
    "mymodel.summary()"
   ]
  },
  {
   "cell_type": "code",
   "execution_count": 10,
   "metadata": {},
   "outputs": [
    {
     "name": "stdout",
     "output_type": "stream",
     "text": [
      "Epoch 1/20\n",
      "32/32 [==============================] - 1s 24ms/step - loss: 2.2767 - accuracy: 0.1930 - val_loss: 2.2407 - val_accuracy: 0.2842\n",
      "Epoch 2/20\n",
      "32/32 [==============================] - 1s 19ms/step - loss: 2.1916 - accuracy: 0.3850 - val_loss: 2.1194 - val_accuracy: 0.4856\n",
      "Epoch 3/20\n",
      "32/32 [==============================] - 1s 19ms/step - loss: 1.9694 - accuracy: 0.5820 - val_loss: 1.7509 - val_accuracy: 0.5819\n",
      "Epoch 4/20\n",
      "32/32 [==============================] - 1s 20ms/step - loss: 1.4099 - accuracy: 0.6900 - val_loss: 1.1939 - val_accuracy: 0.6360\n",
      "Epoch 5/20\n",
      "32/32 [==============================] - 1s 21ms/step - loss: 0.8775 - accuracy: 0.7680 - val_loss: 0.8562 - val_accuracy: 0.7127\n",
      "Epoch 6/20\n",
      "32/32 [==============================] - 1s 20ms/step - loss: 0.6335 - accuracy: 0.8310 - val_loss: 0.8737 - val_accuracy: 0.7063\n",
      "Epoch 7/20\n",
      "32/32 [==============================] - 1s 20ms/step - loss: 0.5245 - accuracy: 0.8370 - val_loss: 0.7879 - val_accuracy: 0.7209\n",
      "Epoch 8/20\n",
      "32/32 [==============================] - 1s 19ms/step - loss: 0.4791 - accuracy: 0.8550 - val_loss: 0.8051 - val_accuracy: 0.7368\n",
      "Epoch 9/20\n",
      "32/32 [==============================] - 1s 18ms/step - loss: 0.4111 - accuracy: 0.8750 - val_loss: 0.4676 - val_accuracy: 0.8512\n",
      "Epoch 10/20\n",
      "32/32 [==============================] - 1s 19ms/step - loss: 0.3784 - accuracy: 0.8850 - val_loss: 0.4725 - val_accuracy: 0.8435\n",
      "Epoch 11/20\n",
      "32/32 [==============================] - 1s 18ms/step - loss: 0.3514 - accuracy: 0.9050 - val_loss: 0.4611 - val_accuracy: 0.8515\n",
      "Epoch 12/20\n",
      "32/32 [==============================] - 1s 18ms/step - loss: 0.3337 - accuracy: 0.8970 - val_loss: 0.5209 - val_accuracy: 0.8354\n",
      "Epoch 13/20\n",
      "32/32 [==============================] - 1s 18ms/step - loss: 0.3018 - accuracy: 0.9100 - val_loss: 0.5390 - val_accuracy: 0.8330\n",
      "Epoch 14/20\n",
      "32/32 [==============================] - 1s 18ms/step - loss: 0.3063 - accuracy: 0.9120 - val_loss: 2.0376 - val_accuracy: 0.4966\n",
      "Epoch 15/20\n",
      "32/32 [==============================] - 1s 20ms/step - loss: 0.3592 - accuracy: 0.8920 - val_loss: 0.4236 - val_accuracy: 0.8701\n",
      "Epoch 16/20\n",
      "32/32 [==============================] - 1s 19ms/step - loss: 0.2648 - accuracy: 0.9190 - val_loss: 0.6824 - val_accuracy: 0.7847\n",
      "Epoch 17/20\n",
      "32/32 [==============================] - 1s 18ms/step - loss: 0.2494 - accuracy: 0.9230 - val_loss: 0.4038 - val_accuracy: 0.8749\n",
      "Epoch 18/20\n",
      "32/32 [==============================] - 1s 18ms/step - loss: 0.2358 - accuracy: 0.9280 - val_loss: 0.4632 - val_accuracy: 0.8581\n",
      "Epoch 19/20\n",
      "32/32 [==============================] - 1s 20ms/step - loss: 0.2237 - accuracy: 0.9390 - val_loss: 0.3787 - val_accuracy: 0.8836\n",
      "Epoch 20/20\n",
      "32/32 [==============================] - 1s 20ms/step - loss: 0.2156 - accuracy: 0.9330 - val_loss: 0.4452 - val_accuracy: 0.8636\n"
     ]
    }
   ],
   "source": [
    "from tensorflow.keras.callbacks import EarlyStopping\n",
    "myES_function = EarlyStopping(monitor='val_loss', mode='min', patience=5) #patience before stopping\n",
    "   \n",
    "#------------ Now Run Training\n",
    "fit_history=mymodel.fit(X_train, Y_train, #validation_split=0.20,\n",
    "          validation_data=(X_test,Y_test),\n",
    "          batch_size=32, epochs=20, verbose=1,callbacks=[myES_function])"
   ]
  },
  {
   "cell_type": "code",
   "execution_count": 11,
   "metadata": {},
   "outputs": [
    {
     "name": "stdout",
     "output_type": "stream",
     "text": [
      "NVIDIA-SMI has failed because it couldn't communicate with the NVIDIA driver. Make sure that the latest NVIDIA driver is installed and running.\n",
      "\n"
     ]
    },
    {
     "data": {
      "text/plain": [
       "[PhysicalDevice(name='/physical_device:CPU:0', device_type='CPU')]"
      ]
     },
     "execution_count": 11,
     "metadata": {},
     "output_type": "execute_result"
    }
   ],
   "source": [
    "!nvidia-smi\n",
    "tf.config.list_physical_devices()"
   ]
  },
  {
   "cell_type": "code",
   "execution_count": 12,
   "metadata": {},
   "outputs": [
    {
     "name": "stdout",
     "output_type": "stream",
     "text": [
      "dict_keys(['loss', 'accuracy', 'val_loss', 'val_accuracy'])\n"
     ]
    },
    {
     "data": {
      "image/png": "[encoded data removed]",
      "text/plain": [
       "<Figure size 432x288 with 1 Axes>"
      ]
     },
     "metadata": {
      "needs_background": "light"
     },
     "output_type": "display_data"
    }
   ],
   "source": [
    "import matplotlib.pyplot as plt      #These provide matlab type of plotting functions\n",
    "import matplotlib.image as mpimg\n",
    "%matplotlib inline                   \n",
    "\n",
    "# list all data in history and print out performance\n",
    "print(fit_history.history.keys())\n",
    "\n",
    "# summarize history for accuracy\n",
    "plt.figure()\n",
    "plt.axis([0 ,10, 0, 1])\n",
    "plt.plot(fit_history.history['accuracy'])\n",
    "plt.plot(fit_history.history['val_accuracy'])\n",
    "plt.title('model accuracy')\n",
    "plt.ylabel('accuracy')\n",
    "plt.xlabel('epoch')\n",
    "plt.legend(['train', 'val_test'], loc='upper left')\n",
    "plt.show()"
   ]
  },
  {
   "cell_type": "code",
   "execution_count": 13,
   "metadata": {},
   "outputs": [],
   "source": [
    "#"
   ]
  },
  {
   "cell_type": "code",
   "execution_count": 14,
   "metadata": {},
   "outputs": [
    {
     "data": {
      "text/plain": [
       "<matplotlib.image.AxesImage at 0x7ffb14213080>"
      ]
     },
     "execution_count": 14,
     "metadata": {},
     "output_type": "execute_result"
    },
    {
     "data": {
      "image/png": "[encoded data removed]",
      "text/plain": [
       "<Figure size 432x288 with 1 Axes>"
      ]
     },
     "metadata": {
      "needs_background": "light"
     },
     "output_type": "display_data"
    }
   ],
   "source": [
    "#To view a sample image\n",
    "import matplotlib.pyplot as plt      #These provide matlab type of plotting functions\n",
    "import matplotlib.image as mpimg\n",
    "\n",
    "tmpimg=np.squeeze(X_train[0,:,:,:]).reshape((28,28))\n",
    "plt.imshow(tmpimg,'gray')   "
   ]
  },
  {
   "cell_type": "code",
   "execution_count": null,
   "metadata": {},
   "outputs": [],
   "source": [
    "\n"
   ]
  },
  {
   "cell_type": "code",
   "execution_count": 15,
   "metadata": {},
   "outputs": [
    {
     "name": "stdout",
     "output_type": "stream",
     "text": [
      "W3D shape Wlist[0]:(3, 3, 16)\n"
     ]
    },
    {
     "name": "stderr",
     "output_type": "stream",
     "text": [
      "/usr/local/lib/python3.6/dist-packages/ipykernel_launcher.py:12: MatplotlibDeprecationWarning: Passing non-integers as three-element position specification is deprecated since 3.3 and will be removed two minor releases later.\n",
      "  if sys.path[0] == '':\n"
     ]
    },
    {
     "data": {
      "image/png": "[encoded data removed]",
      "text/plain": [
       "<Figure size 432x288 with 16 Axes>"
      ]
     },
     "metadata": {
      "needs_background": "light"
     },
     "output_type": "display_data"
    },
    {
     "name": "stdout",
     "output_type": "stream",
     "text": [
      "done plotting weights mosaic\n"
     ]
    }
   ],
   "source": [
    "# ------------ GET WEIGHTS From Convolution Layer and make mosaic image \n",
    "Wlist   =mymodel.layers[0].get_weights()      \n",
    "W3D     =np.squeeze(Wlist[0])\n",
    "print(\"W3D shape Wlist[0]:\"+str(W3D.shape))\n",
    "W3Dchan =W3D.swapaxes(1,2).swapaxes(0,1)  #get the channels as 1st dimension;\n",
    "\n",
    "#plot mosaic of filters of \n",
    "ncol =4\n",
    "nrow =np.ceil(16/ncol)   #assume 16 is number of filters\n",
    "plt.figure()\n",
    "for i in range(W3Dchan.shape[0]):\n",
    "   plt.subplot(nrow,ncol,i+1)\n",
    "   plt.imshow(W3Dchan[i],'gray')\n",
    "   plt.axis('off')\n",
    "\n",
    "plt.show()\n",
    "print('done plotting weights mosaic')"
   ]
  },
  {
   "cell_type": "code",
   "execution_count": 16,
   "metadata": {},
   "outputs": [],
   "source": [
    "#"
   ]
  },
  {
   "cell_type": "code",
   "execution_count": 17,
   "metadata": {},
   "outputs": [
    {
     "name": "stdout",
     "output_type": "stream",
     "text": [
      "6 layers with output activations\n"
     ]
    }
   ],
   "source": [
    "#  ---------------- NOW Visualize the activations for the first training example --------\n",
    "#   1. gather activations from the model layers\n",
    "# -------------------------------------------------------------------------\n",
    "import numpy as np\n",
    "\n",
    "layer_outputs     = [layer.output for layer in mymodel.layers[:]]\n",
    "my_model_actvtns  = keras.models.Model(inputs=mymodel.input, outputs=layer_outputs)\n",
    "x                 = np.expand_dims(X_train[0],0)           #set up a 4D input of 1 image training set \n",
    "my_actvtns_output = my_model_actvtns.predict(x)   #for each image get predictions/activatns\n",
    "\n",
    "print(str(len(my_actvtns_output))+ ' layers with output activations')\n",
    "\n"
   ]
  },
  {
   "cell_type": "code",
   "execution_count": 18,
   "metadata": {},
   "outputs": [],
   "source": [
    "#"
   ]
  },
  {
   "cell_type": "code",
   "execution_count": 19,
   "metadata": {
    "scrolled": true
   },
   "outputs": [
    {
     "name": "stderr",
     "output_type": "stream",
     "text": [
      "/usr/local/lib/python3.6/dist-packages/ipykernel_launcher.py:7: MatplotlibDeprecationWarning: Passing non-integers as three-element position specification is deprecated since 3.3 and will be removed two minor releases later.\n",
      "  import sys\n"
     ]
    },
    {
     "data": {
      "image/png": "[encoded data removed]",
      "text/plain": [
       "<Figure size 432x288 with 16 Axes>"
      ]
     },
     "metadata": {
      "needs_background": "light"
     },
     "output_type": "display_data"
    },
    {
     "name": "stdout",
     "output_type": "stream",
     "text": [
      "done plotting layer1 activation output mosaic\n"
     ]
    }
   ],
   "source": [
    "# 2.  Now output a mosaic of layer 1\n",
    "layeroutput3D      = np.squeeze(my_actvtns_output[0]) #<<---- -try different layer output     \n",
    "ncol =4\n",
    "nrow =np.ceil(16/ncol)\n",
    "plt.figure()\n",
    "for i in range(layeroutput3D.shape[2]):  \n",
    "   plt.subplot(nrow,ncol,i+1)\n",
    "   plt.imshow(layeroutput3D[:,:,i],'gray')\n",
    "   plt.axis('off')\n",
    "#plt.savefig(\"test.png\", bbox_inches='tight')\n",
    "plt.show()\n",
    "print('done plotting layer1 activation output mosaic')\n"
   ]
  },
  {
   "cell_type": "code",
   "execution_count": null,
   "metadata": {},
   "outputs": [],
   "source": []
  }
 ],
 "metadata": {
  "kernelspec": {
   "display_name": "Python 3",
   "language": "python",
   "name": "python3"
  },
  "language_info": {
   "codemirror_mode": {
    "name": "ipython",
    "version": 3
   },
   "file_extension": ".py",
   "mimetype": "text/x-python",
   "name": "python",
   "nbconvert_exporter": "python",
   "pygments_lexer": "ipython3",
   "version": "3.6.9"
  }
 },
 "nbformat": 4,
 "nbformat_minor": 4
}
